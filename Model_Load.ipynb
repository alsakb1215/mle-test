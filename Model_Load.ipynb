{
 "cells": [
  {
   "cell_type": "code",
   "execution_count": 2,
   "metadata": {},
   "outputs": [],
   "source": [
    "import pandas.util.testing as tm\n",
    "from tensorflow.keras.models import load_model\n",
    "from flask import Flask,request, jsonify\n",
    "import os\n",
    "import numpy as np\n",
    "import uuid\n",
    "app = Flask(__name__)\n",
    "\n",
    "\n",
    "import warnings\n",
    "warnings.filterwarnings('ignore')"
   ]
  },
  {
   "cell_type": "markdown",
   "metadata": {},
   "source": [
    "### 1. Set expectations"
   ]
  },
  {
   "cell_type": "code",
   "execution_count": 3,
   "metadata": {},
   "outputs": [],
   "source": [
    "Expected = {\n",
    "\"usd_pledged_real\":{\"min\":0.0,\"max\":20338986.27},\n",
    "\"backers\":{\"min\":0,\"max\":219382},\n",
    "\"usd_goal_real\":{\"min\":0.01,\"max\":166361390.71}\n",
    "}"
   ]
  },
  {
   "cell_type": "markdown",
   "metadata": {},
   "source": [
    "### 2. Import the Model"
   ]
  },
  {
   "cell_type": "code",
   "execution_count": 4,
   "metadata": {},
   "outputs": [],
   "source": [
    "# Load Model for ANN \n",
    "model = load_model(os.path.join(os.getcwd(),\"enpowered_model.h5\"))"
   ]
  },
  {
   "cell_type": "code",
   "execution_count": 5,
   "metadata": {
    "scrolled": false
   },
   "outputs": [
    {
     "name": "stdout",
     "output_type": "stream",
     "text": [
      "Model: \"sequential\"\n",
      "_________________________________________________________________\n",
      "Layer (type)                 Output Shape              Param #   \n",
      "=================================================================\n",
      "dense (Dense)                (None, 6)                 24        \n",
      "_________________________________________________________________\n",
      "dense_1 (Dense)              (None, 6)                 42        \n",
      "_________________________________________________________________\n",
      "dense_2 (Dense)              (None, 6)                 42        \n",
      "_________________________________________________________________\n",
      "dense_3 (Dense)              (None, 6)                 42        \n",
      "_________________________________________________________________\n",
      "dense_4 (Dense)              (None, 6)                 42        \n",
      "_________________________________________________________________\n",
      "dense_5 (Dense)              (None, 1)                 7         \n",
      "=================================================================\n",
      "Total params: 199\n",
      "Trainable params: 199\n",
      "Non-trainable params: 0\n",
      "_________________________________________________________________\n"
     ]
    }
   ],
   "source": [
    "model.summary()"
   ]
  },
  {
   "cell_type": "markdown",
   "metadata": {},
   "source": [
    "### 3. Set parameter conditions"
   ]
  },
  {
   "cell_type": "code",
   "execution_count": 6,
   "metadata": {},
   "outputs": [
    {
     "name": "stdout",
     "output_type": "stream",
     "text": [
      " * Serving Flask app \"__main__\" (lazy loading)\n",
      " * Environment: production\n",
      "   WARNING: This is a development server. Do not use it in a production deployment.\n",
      "   Use a production WSGI server instead.\n",
      " * Debug mode: on\n"
     ]
    },
    {
     "name": "stderr",
     "output_type": "stream",
     "text": [
      " * Running on http://127.0.0.1:5000/ (Press CTRL+C to quit)\n"
     ]
    }
   ],
   "source": [
    "@app.route('/api', methods=['POST'])  # Define the decorator and create application and use request to send data\n",
    "def project_prediction():\n",
    "    content = request.json\n",
    "    errors = []\n",
    "    \n",
    "    # Check Min and Max and check Names\n",
    "    for name in content:\n",
    "        if name in Expected:\n",
    "            expected_min = Expected[name]['min']\n",
    "            expected_max = Expected[name]['max']\n",
    "            value = content[name]\n",
    "            if value < expected_min or value > expected_max:\n",
    "                errors.append(f\"Out of bounds: {name}, has value of: {value}, but it should be between {expected_min} and {expected_max}.\")\n",
    "        else:\n",
    "            errors.append(f\"Unexpected field: {name}\")\n",
    "    \n",
    "    # Check values of the existing names and thier values\n",
    "    for name in Expected:\n",
    "        if name not in content:\n",
    "            errors.append(f\"Missing_value:{name}\")\n",
    "    if len(errors)<1:  # Error list is empty\n",
    "        x = np.zeros((1,3))     \n",
    "        x[0,0]  = content['usd_pledged_real']\n",
    "        x[0,1]  = content['backers']\n",
    "        x[0,2]  = content['usd_goal_real']\n",
    "\n",
    "            \n",
    "    # Prediction\n",
    "        prediction = model.predict(x)\n",
    "        Project_Result = float(prediction[0])\n",
    "        response = {\"id\": str(uuid.uuid4()), \"Project_Result\": Project_Result, \"errrors\": errors}\n",
    "        \n",
    "    else:\n",
    "        response = {\"id\": str(uuid.uuid4()), \"errrors\": errors}\n",
    "        \n",
    "    return jsonify(response)\n",
    "\n",
    "   # Run the application\n",
    "if __name__ == '__main__':\n",
    "    app.run(debug=True, use_reloader=False)\n",
    "                "
   ]
  }
 ],
 "metadata": {
  "kernelspec": {
   "display_name": "Python 3",
   "language": "python",
   "name": "python3"
  },
  "language_info": {
   "codemirror_mode": {
    "name": "ipython",
    "version": 3
   },
   "file_extension": ".py",
   "mimetype": "text/x-python",
   "name": "python",
   "nbconvert_exporter": "python",
   "pygments_lexer": "ipython3",
   "version": "3.7.3"
  }
 },
 "nbformat": 4,
 "nbformat_minor": 2
}
